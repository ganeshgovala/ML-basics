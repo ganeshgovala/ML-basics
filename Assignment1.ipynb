{
  "nbformat": 4,
  "nbformat_minor": 0,
  "metadata": {
    "colab": {
      "provenance": [],
      "authorship_tag": "ABX9TyNoBUQaQaWud/nhC5kZUk2Z",
      "include_colab_link": true
    },
    "kernelspec": {
      "name": "python3",
      "display_name": "Python 3"
    },
    "language_info": {
      "name": "python"
    }
  },
  "cells": [
    {
      "cell_type": "markdown",
      "metadata": {
        "id": "view-in-github",
        "colab_type": "text"
      },
      "source": [
        "<a href=\"https://colab.research.google.com/github/ganeshgovala/ML-basics/blob/main/Assignment1.ipynb\" target=\"_parent\"><img src=\"https://colab.research.google.com/assets/colab-badge.svg\" alt=\"Open In Colab\"/></a>"
      ]
    },
    {
      "cell_type": "markdown",
      "source": [
        "#1.Arithmetic Operations"
      ],
      "metadata": {
        "id": "SSWJFuBPSu9o"
      }
    },
    {
      "cell_type": "code",
      "source": [
        "import numpy as np\n",
        "\n",
        "arr1 = np.array([[1,2,3],[4,5,6]])\n",
        "arr2 = np.array([[7,8,9],[10,11,12]])\n",
        "\n",
        "#Addition\n",
        "print(arr1 + arr2)\n",
        "\n",
        "#Subtraction\n",
        "print(arr1 - arr2)\n",
        "\n",
        "#Multiplication\n",
        "print(arr1 * arr2)\n",
        "\n",
        "#Modulus\n",
        "print(arr1 % arr2)\n",
        "\n",
        "#Division\n",
        "print(arr1 / arr2)\n",
        "\n",
        "#Floor Division\n",
        "print(arr1 // arr2)"
      ],
      "metadata": {
        "id": "Mn-jJqheS-WA"
      },
      "execution_count": null,
      "outputs": []
    },
    {
      "cell_type": "markdown",
      "source": [],
      "metadata": {
        "id": "qWsIYWPpS9-y"
      }
    },
    {
      "cell_type": "markdown",
      "source": [
        "#2.Mean and Standard Deviation"
      ],
      "metadata": {
        "id": "DzC-JSEvVN2C"
      }
    },
    {
      "cell_type": "code",
      "source": [
        "import numpy as np\n",
        "\n",
        "arr = np.array([1,2,3,4,5,6,7,8,9,10])\n",
        "mean = np.mean(arr)\n",
        "std = np.std(arr)\n",
        "\n",
        "print(mean)\n",
        "print(std)"
      ],
      "metadata": {
        "id": "Xsho_WI8VSBO"
      },
      "execution_count": null,
      "outputs": []
    },
    {
      "cell_type": "markdown",
      "source": [
        "#3.Specific Array Creation"
      ],
      "metadata": {
        "id": "Ozsub-6dVptn"
      }
    },
    {
      "cell_type": "code",
      "source": [
        "import numpy as np\n",
        "\n",
        "# Starting, Ending, Step-count\n",
        "\n",
        "arr = np.arange(10,50,5)\n",
        "\n",
        "print(arr)"
      ],
      "metadata": {
        "colab": {
          "base_uri": "https://localhost:8080/"
        },
        "id": "qaTkB1S9Vtg_",
        "outputId": "433e1941-78ba-40bd-ecfc-ae5aa78b1c16"
      },
      "execution_count": null,
      "outputs": [
        {
          "output_type": "stream",
          "name": "stdout",
          "text": [
            "[10 15 20 25 30 35 40 45]\n"
          ]
        }
      ]
    },
    {
      "cell_type": "markdown",
      "source": [
        "#4.Reshaping the Array"
      ],
      "metadata": {
        "id": "c5-ALXsfWG6h"
      }
    },
    {
      "cell_type": "code",
      "source": [
        "import numpy as np\n",
        "\n",
        "arr = np.arange(10, 50, 5)\n",
        "arr.shape = (2,4)\n",
        "print(arr)"
      ],
      "metadata": {
        "id": "weh1K0KoWKPf"
      },
      "execution_count": null,
      "outputs": []
    },
    {
      "cell_type": "markdown",
      "source": [
        "#5.Submatrix"
      ],
      "metadata": {
        "id": "cNro2wRcWv-t"
      }
    },
    {
      "cell_type": "code",
      "source": [
        "import numpy as np\n",
        "\n",
        "arr = np.array([[1, 2, 3], [4, 5, 6], [7, 8, 9]])\n",
        "\n",
        "# Last two Rows and first Two columns\n",
        "print(arr[-2:, 0:2])\n",
        "\n",
        "#Replacing the numbers with Zero which are greater than 4\n",
        "arr[arr > 4] = 0\n",
        "print(arr)"
      ],
      "metadata": {
        "id": "hgL5fKIjWyon"
      },
      "execution_count": null,
      "outputs": []
    },
    {
      "cell_type": "markdown",
      "source": [
        "#6.Addition, Multiplication & Division"
      ],
      "metadata": {
        "id": "unqtvmAEhee_"
      }
    },
    {
      "cell_type": "code",
      "source": [
        "import numpy as np\n",
        "\n",
        "arr1 = np.array([[1,2,3], [4,5,6]])\n",
        "arr2 = np.array([[7,8,9],[10,11,12]])\n",
        "\n",
        "print(arr1 + arr2)\n",
        "print(arr1 * arr2)\n",
        "print(arr1 / arr2)"
      ],
      "metadata": {
        "id": "DIrzTlOxhjDU"
      },
      "execution_count": null,
      "outputs": []
    },
    {
      "cell_type": "markdown",
      "source": [
        "#7.Mean, Max & Sum"
      ],
      "metadata": {
        "id": "fZAxIpp667-z"
      }
    },
    {
      "cell_type": "code",
      "source": [
        "import numpy as np\n",
        "\n",
        "arr = np.array([1,2,3,4,5])\n",
        "\n",
        "#Mean\n",
        "print(np.mean(arr))\n",
        "\n",
        "#Max\n",
        "print(np.max(arr))\n",
        "\n",
        "#Sum\n",
        "print(np.sum(arr))"
      ],
      "metadata": {
        "id": "Oqbyxq2Q6-xy"
      },
      "execution_count": null,
      "outputs": []
    },
    {
      "cell_type": "markdown",
      "source": [
        "#8.Adding 10 to each element & Multiplying the result with 2"
      ],
      "metadata": {
        "id": "MPpuWQYJ7nsR"
      }
    },
    {
      "cell_type": "code",
      "source": [
        "import numpy as np\n",
        "\n",
        "arr = np.array([1, 2, 3, 4])\n",
        "\n",
        "print((arr+10) * 2)"
      ],
      "metadata": {
        "id": "5j2NhMqV7urw"
      },
      "execution_count": null,
      "outputs": []
    },
    {
      "cell_type": "markdown",
      "source": [
        "#9.Slicing & Indexing on 3d Array"
      ],
      "metadata": {
        "id": "y5Q_cQWF8ZJj"
      }
    },
    {
      "cell_type": "code",
      "source": [
        "import numpy as py\n",
        "\n",
        "arr = np.random.randint(1,100,(3,4,5))\n",
        "\n",
        "print(arr)\n",
        "\n",
        "# 2nd Layer\n",
        "print(arr[1])\n",
        "\n",
        "# First Two rows from last three columns of every layer\n",
        "print(arr[:, :2, -3:])\n",
        "\n",
        "#Replacing all elements divisible by 3 with -1\n",
        "arr[arr%3 == 0] = -1\n",
        "print(arr)"
      ],
      "metadata": {
        "id": "S_ToUsAp8fSg"
      },
      "execution_count": null,
      "outputs": []
    },
    {
      "cell_type": "markdown",
      "source": [
        "#10.Broadcasting and Advanced Operations"
      ],
      "metadata": {
        "id": "eMtpTLL4IxnW"
      }
    },
    {
      "cell_type": "code",
      "source": [
        "import numpy as np\n",
        "\n",
        "arr = np.random.randint(1,20, (3,3))\n",
        "print(arr)\n",
        "\n",
        "#Subtracting the mean of each row from its respective elements (row-wise normalization)\n",
        "mean_arr = arr.mean(axis=1, keepdims = True)\n",
        "arr = arr - mean_arr\n",
        "print(arr)\n",
        "\n",
        "#Creating a new array by squaring all the elements in arr.\n",
        "squared_arr = arr ** 2\n",
        "print(squared_arr)\n",
        "\n",
        "#Finding the indices of the top 3 maximum values in the entire array\n",
        "flattened_indices = np.argpartition(arr.flatten(), -3)[-3:]\n",
        "sorted_indices = flattened_indices[np.argsort(arr.flatten()[flattened_indices])]\n",
        "top_3_indices = np.unravel_index(sorted_indices, arr.shape)\n",
        "print(list(zip(*top_3_indices)))"
      ],
      "metadata": {
        "id": "EEPyB9CDI5r9"
      },
      "execution_count": null,
      "outputs": []
    }
  ]
}