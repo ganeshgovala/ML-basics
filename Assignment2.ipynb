{
  "nbformat": 4,
  "nbformat_minor": 0,
  "metadata": {
    "colab": {
      "provenance": [],
      "authorship_tag": "ABX9TyOm0z39lFF3PAyy9/k0EShB",
      "include_colab_link": true
    },
    "kernelspec": {
      "name": "python3",
      "display_name": "Python 3"
    },
    "language_info": {
      "name": "python"
    }
  },
  "cells": [
    {
      "cell_type": "markdown",
      "metadata": {
        "id": "view-in-github",
        "colab_type": "text"
      },
      "source": [
        "<a href=\"https://colab.research.google.com/github/ganeshgovala/ML-basics/blob/main/Assignment2.ipynb\" target=\"_parent\"><img src=\"https://colab.research.google.com/assets/colab-badge.svg\" alt=\"Open In Colab\"/></a>"
      ]
    },
    {
      "cell_type": "markdown",
      "source": [
        "#Question 1\n",
        "1.Create a Pandas DataFrame from the following dictionary:\n",
        "\n",
        "data = { 'Name': ['Alice', 'Bob', 'Carol'], 'Age': [24, 27, 22], 'Salary': [50000, 55000, 48000]link text }\n",
        "\n",
        "• Add a new column called Bonus which is 10% of the salary."
      ],
      "metadata": {
        "id": "Aqflhb1XuFgX"
      }
    },
    {
      "cell_type": "code",
      "source": [
        "import pandas as pd\n",
        "data = { 'Name': ['Alice', 'Bob', 'Carol'],\n",
        "        'Age': [24, 27, 22],\n",
        "         'Salary': [50000, 55000, 48000] }\n",
        "df = pd.DataFrame(data)\n",
        "df['Bonus'] = df['Salary']*0.10\n",
        "print(df)\n"
      ],
      "metadata": {
        "colab": {
          "base_uri": "https://localhost:8080/"
        },
        "id": "3lwNiJJnuFCx",
        "outputId": "4d3a6bcf-be6c-4cef-d490-4bef154c0ca0"
      },
      "execution_count": 1,
      "outputs": [
        {
          "output_type": "stream",
          "name": "stdout",
          "text": [
            "    Name  Age  Salary   Bonus\n",
            "0  Alice   24   50000  5000.0\n",
            "1    Bob   27   55000  5500.0\n",
            "2  Carol   22   48000  4800.0\n"
          ]
        }
      ]
    },
    {
      "cell_type": "markdown",
      "source": [
        "#Question 2\n",
        "2.Given the DataFrame created in the above question:\n",
        "\n",
        "• Display the first two rows.\n",
        "\n",
        "• Compute the mean salary."
      ],
      "metadata": {
        "id": "XsPkU3UwuSAS"
      }
    },
    {
      "cell_type": "code",
      "execution_count": 2,
      "metadata": {
        "colab": {
          "base_uri": "https://localhost:8080/"
        },
        "id": "ZS8aI0a1tbg8",
        "outputId": "64b0d6eb-6aed-475b-8f10-01cfa871ecfd"
      },
      "outputs": [
        {
          "output_type": "stream",
          "name": "stdout",
          "text": [
            "    Name  Age  Salary   Bonus\n",
            "0  Alice   24   50000  5000.0\n",
            "1    Bob   27   55000  5500.0\n",
            "----------------\n",
            "51000.0\n"
          ]
        }
      ],
      "source": [
        "first_two_rows =df.head(2)\n",
        "print(first_two_rows)\n",
        "print(\"----------------\")\n",
        "mean_salary = df['Salary'].mean()\n",
        "print(mean_salary)\n",
        ""
      ]
    },
    {
      "cell_type": "markdown",
      "source": [
        "#Question 3\n",
        "3. Using the same DataFrame:\n",
        "• Extract all rows where the Age is greater than 25.\n",
        "\n",
        "• Filter out rows where the Salary is less than 50000."
      ],
      "metadata": {
        "id": "8NDeVHOHua0j"
      }
    },
    {
      "cell_type": "code",
      "source": [
        "a = df[df['Age']>25]\n",
        "print(a)\n",
        "print(\"-----------\")\n",
        "s = df[df['Salary']<50000]\n",
        "print(s)"
      ],
      "metadata": {
        "colab": {
          "base_uri": "https://localhost:8080/"
        },
        "id": "WCaQPIMquaaG",
        "outputId": "b6b7a8f4-55fd-4147-87cf-db8c97df067a"
      },
      "execution_count": 3,
      "outputs": [
        {
          "output_type": "stream",
          "name": "stdout",
          "text": [
            "  Name  Age  Salary   Bonus\n",
            "1  Bob   27   55000  5500.0\n",
            "-----------\n",
            "    Name  Age  Salary   Bonus\n",
            "2  Carol   22   48000  4800.0\n"
          ]
        }
      ]
    },
    {
      "cell_type": "markdown",
      "source": [
        "#Question 4\n",
        "4. Create the following DataFrame:\n",
        "\n",
        "data = { 'A': [1, 2, None, 4], 'B': [None, 2, 3, None], 'C': [1, 2, 3, 4] } df = pd.DataFrame(data)\n",
        "\n",
        "• Fill missing values in column A with the mean of the column.\n",
        "\n",
        "• Drop rows where all values are None."
      ],
      "metadata": {
        "id": "ZJMztkIIujWT"
      }
    },
    {
      "cell_type": "code",
      "source": [
        "data = {\n",
        "    'A': [1, 2, None, 4],\n",
        "    'B': [None, 2, 3, None],\n",
        "    'C': [1, 2, 3, 4]\n",
        "}\n",
        "\n",
        "df = pd.DataFrame(data)\n",
        "df['A'].fillna(df['A'].mean(), inplace=True)\n",
        "\n",
        "df.dropna(how='all', inplace=True)\n",
        "\n",
        "print(df)"
      ],
      "metadata": {
        "colab": {
          "base_uri": "https://localhost:8080/"
        },
        "id": "SqVRUX-tum4G",
        "outputId": "798b52d3-1140-440b-e46b-b882e286db6a"
      },
      "execution_count": 4,
      "outputs": [
        {
          "output_type": "stream",
          "name": "stdout",
          "text": [
            "          A    B  C\n",
            "0  1.000000  NaN  1\n",
            "1  2.000000  2.0  2\n",
            "2  2.333333  3.0  3\n",
            "3  4.000000  NaN  4\n"
          ]
        },
        {
          "output_type": "stream",
          "name": "stderr",
          "text": [
            "<ipython-input-4-188d511dc0b7>:8: FutureWarning: A value is trying to be set on a copy of a DataFrame or Series through chained assignment using an inplace method.\n",
            "The behavior will change in pandas 3.0. This inplace method will never work because the intermediate object on which we are setting values always behaves as a copy.\n",
            "\n",
            "For example, when doing 'df[col].method(value, inplace=True)', try using 'df.method({col: value}, inplace=True)' or df[col] = df[col].method(value) instead, to perform the operation inplace on the original object.\n",
            "\n",
            "\n",
            "  df['A'].fillna(df['A'].mean(), inplace=True)\n"
          ]
        }
      ]
    },
    {
      "cell_type": "markdown",
      "source": [
        "#Question 5\n",
        "5. Create a DataFrame for employees:\n",
        "\n",
        "data = { 'Department': ['HR', 'HR', 'IT', 'IT', 'Finance'], 'Employee': ['Alice', 'Bob', 'Carol', 'David', 'Eve'], 'Salary': [50000, 45000, 60000, 65000, 70000] }\n",
        "\n",
        "• Group the data by Department and compute the total and mean salary for each department."
      ],
      "metadata": {
        "id": "uQ7LZbQwutme"
      }
    },
    {
      "cell_type": "code",
      "source": [
        "data = {\n",
        "    'Department': ['HR', 'HR', 'IT', 'IT', 'Finance'],\n",
        "    'Employee': ['Alice', 'Bob', 'Carol', 'David', 'Eve'],\n",
        "    'Salary': [50000, 45000, 60000, 65000, 70000]\n",
        "}\n",
        "df = pd.DataFrame(data)\n",
        "grouped_df = df.groupby('Department')['Salary'].agg(['sum', 'mean']).reset_index()\n",
        "\n",
        "print(grouped_df)"
      ],
      "metadata": {
        "colab": {
          "base_uri": "https://localhost:8080/"
        },
        "id": "NI8BpftBuxXL",
        "outputId": "4375eccc-e570-4a57-f43e-dbfb19fc54a9"
      },
      "execution_count": 5,
      "outputs": [
        {
          "output_type": "stream",
          "name": "stdout",
          "text": [
            "  Department     sum     mean\n",
            "0    Finance   70000  70000.0\n",
            "1         HR   95000  47500.0\n",
            "2         IT  125000  62500.0\n"
          ]
        }
      ]
    },
    {
      "cell_type": "markdown",
      "source": [
        "#Question 6\n",
        "6. Given two DataFrames:\n",
        "\n",
        "df1 = pd.DataFrame({'ID': [1, 2, 3], 'Name': ['Alice', 'Bob', 'Carol']})\n",
        "\n",
        "df2 = pd.DataFrame({'ID': [2, 3, 4], 'Age': [25, 30, 22]})\n",
        "\n",
        "• Perform an inner join on the ID column."
      ],
      "metadata": {
        "id": "LoFMCQ-suzQC"
      }
    },
    {
      "cell_type": "code",
      "source": [
        "df1 = pd.DataFrame({'ID': [1, 2, 3], 'Name': ['Alice', 'Bob', 'Carol']})\n",
        "df2 = pd.DataFrame({'ID': [2, 3, 4], 'Age': [25, 30, 22]})\n",
        "\n",
        "merged_df = pd.merge(df1, df2, on='ID', how='inner')\n",
        "\n",
        "print(merged_df)\n"
      ],
      "metadata": {
        "colab": {
          "base_uri": "https://localhost:8080/"
        },
        "id": "LzT7Kks9u3MQ",
        "outputId": "c4bd1b06-0e6b-4a08-ef7c-1bf37a459adf"
      },
      "execution_count": 6,
      "outputs": [
        {
          "output_type": "stream",
          "name": "stdout",
          "text": [
            "   ID   Name  Age\n",
            "0   2    Bob   25\n",
            "1   3  Carol   30\n"
          ]
        }
      ]
    },
    {
      "cell_type": "markdown",
      "source": [
        "#Question 7\n",
        "7. Given a small dataset, clean and display basic statistics using Pandas."
      ],
      "metadata": {
        "id": "UR1jB9Q3u5Oe"
      }
    },
    {
      "cell_type": "code",
      "source": [
        "data = {\n",
        "    'Name': ['Alice', 'Bob', 'Carol', 'David', 'Eve'],\n",
        "    'Age': [25, 30, 22, 35, None],\n",
        "    'Salary': [50000, 45000, 60000, None, 70000]\n",
        "}\n",
        "df = pd.DataFrame(data)\n",
        "df['Age'].fillna(df['Age'].mean(), inplace=True)\n",
        "df['Salary'].fillna(df['Salary'].mean(), inplace=True)\n",
        "\n",
        "statistics = df.describe()\n",
        "\n",
        "print(statistics)"
      ],
      "metadata": {
        "colab": {
          "base_uri": "https://localhost:8080/"
        },
        "id": "95P5-Uffu9IO",
        "outputId": "a6f114b7-5353-4dfb-bf1a-82049b66ed89"
      },
      "execution_count": 7,
      "outputs": [
        {
          "output_type": "stream",
          "name": "stdout",
          "text": [
            "             Age        Salary\n",
            "count   5.000000      5.000000\n",
            "mean   28.000000  56250.000000\n",
            "std     4.949747   9601.432185\n",
            "min    22.000000  45000.000000\n",
            "25%    25.000000  50000.000000\n",
            "50%    28.000000  56250.000000\n",
            "75%    30.000000  60000.000000\n",
            "max    35.000000  70000.000000\n"
          ]
        },
        {
          "output_type": "stream",
          "name": "stderr",
          "text": [
            "<ipython-input-7-b684f9a111d4>:7: FutureWarning: A value is trying to be set on a copy of a DataFrame or Series through chained assignment using an inplace method.\n",
            "The behavior will change in pandas 3.0. This inplace method will never work because the intermediate object on which we are setting values always behaves as a copy.\n",
            "\n",
            "For example, when doing 'df[col].method(value, inplace=True)', try using 'df.method({col: value}, inplace=True)' or df[col] = df[col].method(value) instead, to perform the operation inplace on the original object.\n",
            "\n",
            "\n",
            "  df['Age'].fillna(df['Age'].mean(), inplace=True)\n",
            "<ipython-input-7-b684f9a111d4>:8: FutureWarning: A value is trying to be set on a copy of a DataFrame or Series through chained assignment using an inplace method.\n",
            "The behavior will change in pandas 3.0. This inplace method will never work because the intermediate object on which we are setting values always behaves as a copy.\n",
            "\n",
            "For example, when doing 'df[col].method(value, inplace=True)', try using 'df.method({col: value}, inplace=True)' or df[col] = df[col].method(value) instead, to perform the operation inplace on the original object.\n",
            "\n",
            "\n",
            "  df['Salary'].fillna(df['Salary'].mean(), inplace=True)\n"
          ]
        }
      ]
    },
    {
      "cell_type": "markdown",
      "source": [],
      "metadata": {
        "id": "wXRyxwlYu_wO"
      }
    },
    {
      "cell_type": "markdown",
      "source": [
        "#Question 8\n",
        "8. small EDA task\n",
        "\n",
        "• Load the Titanic dataset (titanic.csv) into a Pandas DataFrame.\n",
        "\n",
        "• Perform the following tasks:\n",
        "\n",
        "o Display the number of missing values in each column.\n",
        "\n",
        "o Find the average age of passengers.\n",
        "\n",
        "o Create a bar plot to show the survival rate based on gender."
      ],
      "metadata": {
        "id": "cpwL4tHGvDF2"
      }
    },
    {
      "cell_type": "code",
      "source": [
        "df = pd.read_csv('/content/Titanic-Dataset.csv')\n",
        "import matplotlib.pyplot as plt\n",
        "missing_values = df.isnull().sum()\n",
        "print(\"Missing values in each column:\\n\", missing_values)\n",
        "\n",
        "# Find the average age of passengers\n",
        "average_age = df['Age'].mean()\n",
        "print(\"Average age of passengers:\", average_age)\n",
        "\n",
        "survival_rate = df.groupby('Sex')['Survived'].mean()\n",
        "survival_rate.plot(kind='bar')\n",
        "plt.title('Survival Rate by Gender')\n",
        "plt.xlabel('Gender')\n",
        "plt.ylabel('Survival Rate')\n",
        "plt.show()\n"
      ],
      "metadata": {
        "colab": {
          "base_uri": "https://localhost:8080/",
          "height": 778
        },
        "id": "l1sHbaG_vCZ8",
        "outputId": "d3680bbe-31d5-455b-edb5-c29c5159d964"
      },
      "execution_count": 11,
      "outputs": [
        {
          "output_type": "stream",
          "name": "stdout",
          "text": [
            "Missing values in each column:\n",
            " PassengerId      0\n",
            "Survived         0\n",
            "Pclass           0\n",
            "Name             0\n",
            "Sex              0\n",
            "Age            177\n",
            "SibSp            0\n",
            "Parch            0\n",
            "Ticket           0\n",
            "Fare             0\n",
            "Cabin          687\n",
            "Embarked         2\n",
            "dtype: int64\n",
            "Average age of passengers: 29.69911764705882\n"
          ]
        },
        {
          "output_type": "display_data",
          "data": {
            "text/plain": [
              "<Figure size 640x480 with 1 Axes>"
            ],
            "image/png": "[encoded data removed]"
          },
          "metadata": {}
        }
      ]
    },
    {
      "cell_type": "markdown",
      "source": [],
      "metadata": {
        "id": "qQK_-wPovG4Z"
      }
    },
    {
      "cell_type": "markdown",
      "source": [
        "#Question 9\n",
        "9. Data Transformation\n",
        "\n",
        "- Load a dataset containing daily temperatures and dates. Perform the following:\n",
        "\n",
        "- Convert the date column into a DateTime object.\n",
        "\n",
        "- Create a new column that categorizes temperatures into High, Medium, or Low."
      ],
      "metadata": {
        "id": "NNFMemEiws7c"
      }
    },
    {
      "cell_type": "code",
      "source": [
        "data = {\n",
        "    \"Date\": [\"2024-12-01\", \"2024-12-02\", \"2024-12-03\", \"2024-12-04\"],\n",
        "    \"Temperature\": [30, 15, 25, 10],\n",
        "}\n",
        "df = pd.DataFrame(data)\n",
        "df[\"Date\"] = pd.to_datetime(df[\"Date\"])\n",
        "def categorize_temperature(temp):\n",
        "    if temp >= 25:\n",
        "        return \"High\"\n",
        "    elif 15 <= temp < 25:\n",
        "        return \"Medium\"\n",
        "    else:\n",
        "        return \"Low\"\n",
        "\n",
        "df[\"Temperature_Category\"] = df[\"Temperature\"].apply(categorize_temperature)\n",
        "\n",
        "print(df)\n"
      ],
      "metadata": {
        "colab": {
          "base_uri": "https://localhost:8080/"
        },
        "id": "36U6XBJKw0ON",
        "outputId": "a57f7e09-33c8-42dc-d535-5ee02e61cb2d"
      },
      "execution_count": 12,
      "outputs": [
        {
          "output_type": "stream",
          "name": "stdout",
          "text": [
            "        Date  Temperature Temperature_Category\n",
            "0 2024-12-01           30                 High\n",
            "1 2024-12-02           15               Medium\n",
            "2 2024-12-03           25                 High\n",
            "3 2024-12-04           10                  Low\n"
          ]
        }
      ]
    }
  ]
}